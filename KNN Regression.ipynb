{
 "cells": [
  {
   "cell_type": "code",
   "execution_count": 1,
   "metadata": {},
   "outputs": [],
   "source": [
    "import pandas as pd\n",
    "import numpy as np\n",
    "import matplotlib.pyplot as plt\n",
    "import seaborn as sns\n",
    "from sklearn.preprocessing import StandardScaler\n",
    "from scipy.stats import skew\n",
    "import warnings\n",
    "warnings.filterwarnings(\"ignore\")"
   ]
  },
  {
   "cell_type": "code",
   "execution_count": 5,
   "metadata": {},
   "outputs": [],
   "source": [
    "df=pd.read_csv(r'DATA/Advertising (2).csv',index_col=0)"
   ]
  },
  {
   "cell_type": "code",
   "execution_count": 6,
   "metadata": {},
   "outputs": [
    {
     "data": {
      "text/html": [
       "<div>\n",
       "<style scoped>\n",
       "    .dataframe tbody tr th:only-of-type {\n",
       "        vertical-align: middle;\n",
       "    }\n",
       "\n",
       "    .dataframe tbody tr th {\n",
       "        vertical-align: top;\n",
       "    }\n",
       "\n",
       "    .dataframe thead th {\n",
       "        text-align: right;\n",
       "    }\n",
       "</style>\n",
       "<table border=\"1\" class=\"dataframe\">\n",
       "  <thead>\n",
       "    <tr style=\"text-align: right;\">\n",
       "      <th></th>\n",
       "      <th>TV</th>\n",
       "      <th>radio</th>\n",
       "      <th>newspaper</th>\n",
       "      <th>sales</th>\n",
       "    </tr>\n",
       "  </thead>\n",
       "  <tbody>\n",
       "    <tr>\n",
       "      <th>1</th>\n",
       "      <td>230.1</td>\n",
       "      <td>37.8</td>\n",
       "      <td>69.2</td>\n",
       "      <td>22.1</td>\n",
       "    </tr>\n",
       "    <tr>\n",
       "      <th>2</th>\n",
       "      <td>44.5</td>\n",
       "      <td>39.3</td>\n",
       "      <td>45.1</td>\n",
       "      <td>10.4</td>\n",
       "    </tr>\n",
       "    <tr>\n",
       "      <th>3</th>\n",
       "      <td>17.2</td>\n",
       "      <td>45.9</td>\n",
       "      <td>69.3</td>\n",
       "      <td>9.3</td>\n",
       "    </tr>\n",
       "    <tr>\n",
       "      <th>4</th>\n",
       "      <td>151.5</td>\n",
       "      <td>41.3</td>\n",
       "      <td>58.5</td>\n",
       "      <td>18.5</td>\n",
       "    </tr>\n",
       "    <tr>\n",
       "      <th>5</th>\n",
       "      <td>180.8</td>\n",
       "      <td>10.8</td>\n",
       "      <td>58.4</td>\n",
       "      <td>12.9</td>\n",
       "    </tr>\n",
       "  </tbody>\n",
       "</table>\n",
       "</div>"
      ],
      "text/plain": [
       "      TV  radio  newspaper  sales\n",
       "1  230.1   37.8       69.2   22.1\n",
       "2   44.5   39.3       45.1   10.4\n",
       "3   17.2   45.9       69.3    9.3\n",
       "4  151.5   41.3       58.5   18.5\n",
       "5  180.8   10.8       58.4   12.9"
      ]
     },
     "execution_count": 6,
     "metadata": {},
     "output_type": "execute_result"
    }
   ],
   "source": [
    "df.head()"
   ]
  },
  {
   "cell_type": "code",
   "execution_count": 7,
   "metadata": {},
   "outputs": [
    {
     "data": {
      "text/plain": [
       "TV           0\n",
       "radio        0\n",
       "newspaper    0\n",
       "sales        0\n",
       "dtype: int64"
      ]
     },
     "execution_count": 7,
     "metadata": {},
     "output_type": "execute_result"
    }
   ],
   "source": [
    "df.isnull().sum()"
   ]
  },
  {
   "cell_type": "code",
   "execution_count": 8,
   "metadata": {},
   "outputs": [
    {
     "data": {
      "text/plain": [
       "Index(['TV', 'radio', 'newspaper', 'sales'], dtype='object')"
      ]
     },
     "execution_count": 8,
     "metadata": {},
     "output_type": "execute_result"
    }
   ],
   "source": [
    "df.columns"
   ]
  },
  {
   "cell_type": "code",
   "execution_count": 9,
   "metadata": {},
   "outputs": [],
   "source": [
    "X=df[['TV','radio', 'newspaper']]\n",
    "y=df['sales']"
   ]
  },
  {
   "cell_type": "code",
   "execution_count": 10,
   "metadata": {},
   "outputs": [],
   "source": [
    "from sklearn.model_selection import train_test_split\n",
    "#split the data into test and train\n",
    "X_train,X_test,y_train,y_test= train_test_split(X,y, test_size=0.3, random_state=10)\n"
   ]
  },
  {
   "cell_type": "code",
   "execution_count": 12,
   "metadata": {},
   "outputs": [],
   "source": [
    "#predciting  using KNeighbors_Classifier\n",
    "from sklearn.neighbors import KNeighborsRegressor\n",
    "model_KNN=KNeighborsRegressor (n_neighbors=3,metric=\"euclidean\")\n",
    "#fit the model on the data and predict the values\n",
    "model_KNN.fit(X_train,y_train)\n",
    "y_pred=model_KNN.predict(X_test)"
   ]
  },
  {
   "cell_type": "code",
   "execution_count": 14,
   "metadata": {},
   "outputs": [],
   "source": [
    "import joblib \n",
    "#save model on disk\n",
    "joblib.dump(model_KNN,\"trained_knn_model.pkl\")\n",
    "\n",
    "#load model on disk\n",
    "model=joblib.load(\"trained_knn_model.pkl\")"
   ]
  },
  {
   "cell_type": "code",
   "execution_count": 13,
   "metadata": {},
   "outputs": [
    {
     "name": "stdout",
     "output_type": "stream",
     "text": [
      "0.925958613863326\n",
      "2.778240740740741\n"
     ]
    }
   ],
   "source": [
    "from sklearn.metrics import r2_score, mean_squared_error\n",
    "r2=r2_score(y_test,y_pred)\n",
    "mse=mean_squared_error (y_test,y_pred)\n",
    "print(r2)\n",
    "print(mse)"
   ]
  },
  {
   "cell_type": "code",
   "execution_count": 16,
   "metadata": {},
   "outputs": [
    {
     "data": {
      "text/plain": [
       "(1.6, 27.0)"
      ]
     },
     "execution_count": 16,
     "metadata": {},
     "output_type": "execute_result"
    }
   ],
   "source": [
    "min(y_test),max(y_test)"
   ]
  },
  {
   "cell_type": "code",
   "execution_count": 23,
   "metadata": {},
   "outputs": [
    {
     "name": "stdout",
     "output_type": "stream",
     "text": [
      "Accuracy is: 0.9383841428002567for K-value:1\n",
      "Accuracy is: 0.9383841428002567for K-value:2\n",
      "Accuracy is: 0.9383841428002567for K-value:3\n",
      "Accuracy is: 0.9383841428002567for K-value:4\n",
      "Accuracy is: 0.9383841428002567for K-value:5\n",
      "Accuracy is: 0.9383841428002567for K-value:6\n",
      "Accuracy is: 0.9383841428002567for K-value:7\n",
      "Accuracy is: 0.9383841428002567for K-value:8\n",
      "Accuracy is: 0.9383841428002567for K-value:9\n",
      "Accuracy is: 0.9383841428002567for K-value:10\n",
      "Accuracy is: 0.9383841428002567for K-value:11\n",
      "Accuracy is: 0.9383841428002567for K-value:12\n",
      "Accuracy is: 0.9383841428002567for K-value:13\n",
      "Accuracy is: 0.9383841428002567for K-value:14\n",
      "Accuracy is: 0.9383841428002567for K-value:15\n",
      "Accuracy is: 0.9383841428002567for K-value:16\n",
      "Accuracy is: 0.9383841428002567for K-value:17\n",
      "Accuracy is: 0.9383841428002567for K-value:18\n",
      "Accuracy is: 0.9383841428002567for K-value:19\n",
      "Accuracy is: 0.9383841428002567for K-value:20\n",
      "Accuracy is: 0.9383841428002567for K-value:21\n",
      "Accuracy is: 0.9383841428002567for K-value:22\n",
      "Accuracy is: 0.9383841428002567for K-value:23\n",
      "Accuracy is: 0.9383841428002567for K-value:24\n",
      "Accuracy is: 0.9383841428002567for K-value:25\n",
      "Accuracy is: 0.9383841428002567for K-value:26\n",
      "Accuracy is: 0.9383841428002567for K-value:27\n",
      "Accuracy is: 0.9383841428002567for K-value:28\n",
      "Accuracy is: 0.9383841428002567for K-value:29\n",
      "Accuracy is: 0.9383841428002567for K-value:30\n"
     ]
    }
   ],
   "source": [
    "acc_dict= dict()\n",
    "for K in range(1,31):\n",
    "   # create object with k value \n",
    "    model_KNN=KNeighborsRegressor(n_neighbors=k ,metric= \"euclidean\")\n",
    "    # model fit\n",
    "    model_KNN.fit(X_train, y_train)\n",
    "    #model prediction \n",
    "    y_pred=model_KNN.predict(X_test)\n",
    "    r2=r2_score(y_test,y_pred)\n",
    "    #print accuracy score \n",
    "    print(\"Accuracy is: {}for K-value:{}\".format(r2,K))\n",
    "    acc_dict[K]=r2"
   ]
  },
  {
   "cell_type": "code",
   "execution_count": null,
   "metadata": {},
   "outputs": [],
   "source": []
  }
 ],
 "metadata": {
  "kernelspec": {
   "display_name": "Python 3",
   "language": "python",
   "name": "python3"
  },
  "language_info": {
   "codemirror_mode": {
    "name": "ipython",
    "version": 3
   },
   "file_extension": ".py",
   "mimetype": "text/x-python",
   "name": "python",
   "nbconvert_exporter": "python",
   "pygments_lexer": "ipython3",
   "version": "3.7.6"
  }
 },
 "nbformat": 4,
 "nbformat_minor": 4
}
